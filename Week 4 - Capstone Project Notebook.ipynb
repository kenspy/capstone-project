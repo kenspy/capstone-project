{
    "cells": [
        {
            "metadata": {
                "collapsed": true
            },
            "cell_type": "markdown",
            "source": "<h1><center>Capstone Project</center></h1>\n<h2><center><strong>The Battle of the Neighborhoods</strong></center></h2>\n<h3><center>By Markenson Gilles</center></h3>\n"
        },
        {
            "metadata": {},
            "cell_type": "markdown",
            "source": "## Table of contents\n* [Business Problem](#intro)\n* [Data](#data)\n* [Methodology](#methodology)\n* [Analysis](#analysis)\n* [Results](#results)\n* [Conclusion](#conclusion)"
        },
        {
            "metadata": {},
            "cell_type": "markdown",
            "source": "## Business Problem <a name=\"intro\"></a>"
        },
        {
            "metadata": {},
            "cell_type": "markdown",
            "source": "The objective of this project is to analyze and find the best location in the city of Toronto, Canada to open a new **Haitian Restaurant**. Using Data Science tools and methodology we'll be able determined where in the city would be the safest and most profitable neighborhood to open a Carribean Restaurant.\n\nWe will take a close look at each neighborhood in the city by analyzing they most common **venues**, **population** and **crime data** to help us determine the safest borough."
        },
        {
            "metadata": {},
            "cell_type": "markdown",
            "source": "## Data <a name=\"data\"></a>"
        },
        {
            "metadata": {},
            "cell_type": "markdown",
            "source": "#### Required data\n1. A of list of Canada's neighborhoods\n2. Canada's neighborhoods coordinates (Latitude & Longitude)\n3. Canada's crime rate data\n4. Neighborhoods venues data"
        },
        {
            "metadata": {},
            "cell_type": "markdown",
            "source": "#### Sources of data\n1. We'll use Canada's postal codes list found on [wikipedia](https://en.wikipedia.org/wiki/List_of_postal_codes_of_Canada:_M)\n2. Foursquare API for restaurants data\n3. Geocoder for the coordinates\n4. Due to limited data available, we'll use wikipedia [Crime in Canada](https://en.wikipedia.org/wiki/Crime_in_Canada) dataset to analyze the crime history"
        },
        {
            "metadata": {},
            "cell_type": "markdown",
            "source": "## Methodology <a name=\"methodology\"></a>\n"
        },
        {
            "metadata": {},
            "cell_type": "markdown",
            "source": "1. Collect, explore and process the neighborhoods [data](https://en.wikipedia.org/wiki/List_of_postal_codes_of_Canada:_M) into the DataFrame\n2. Assign the coordinates to each cities accordingly\n3. Using FourSquare API retreive all venues and filter the data received by anything related to Haitian or Carribean restaurant.\n4. Using our result we'll each city crime rates to determine the safest neighborhood\n5. Using both data will be able to determine the most profitable and safest neighborhood in Canada\n6. Visualize the data on a map using folium"
        },
        {
            "metadata": {},
            "cell_type": "markdown",
            "source": "## Conclusion <a name=\"conclusion\"></a>"
        },
        {
            "metadata": {},
            "cell_type": "markdown",
            "source": "**To be continued**"
        },
        {
            "metadata": {},
            "cell_type": "code",
            "source": "",
            "execution_count": null,
            "outputs": []
        }
    ],
    "metadata": {
        "kernelspec": {
            "name": "python3",
            "display_name": "Python 3.7",
            "language": "python"
        },
        "language_info": {
            "name": "python",
            "version": "3.7.9",
            "mimetype": "text/x-python",
            "codemirror_mode": {
                "name": "ipython",
                "version": 3
            },
            "pygments_lexer": "ipython3",
            "nbconvert_exporter": "python",
            "file_extension": ".py"
        }
    },
    "nbformat": 4,
    "nbformat_minor": 1
}